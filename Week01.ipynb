{
  "nbformat": 4,
  "nbformat_minor": 0,
  "metadata": {
    "colab": {
      "provenance": []
    },
    "kernelspec": {
      "name": "python3",
      "display_name": "Python 3"
    },
    "language_info": {
      "name": "python"
    }
  },
  "cells": [
    {
      "cell_type": "code",
      "source": [
        "import math"
      ],
      "metadata": {
        "id": "53-60VwmU_7M"
      },
      "execution_count": null,
      "outputs": []
    },
    {
      "cell_type": "markdown",
      "source": [
        "# Câu hỏi 1 - Đáp án C"
      ],
      "metadata": {
        "id": "OJITRHg7asGt"
      }
    },
    {
      "cell_type": "code",
      "source": [
        "def calc_f1_score(tp, fp, fn):\n",
        "    # int\n",
        "    if not isinstance(tp, int):\n",
        "      print(\"tp must be int\")\n",
        "    if not isinstance(fp, int):\n",
        "        print(\"fp must be int\")\n",
        "    if not isinstance(fn, int):\n",
        "        print(\"fn must be int\")\n",
        "\n",
        "    # > 0\n",
        "    if tp <= 0 or fp <= 0 or fn <= 0:\n",
        "        print(\"tp, fp và fn must be greater than zero\")\n",
        "        return None\n",
        "\n",
        "    precision = tp / (tp + fp)\n",
        "    recall = tp / (tp + fn)\n",
        "    f1_score = 2 * (precision * recall) / (precision + recall)\n",
        "    return f1_score"
      ],
      "metadata": {
        "id": "fljl7eLrZ28B"
      },
      "execution_count": null,
      "outputs": []
    },
    {
      "cell_type": "code",
      "source": [
        "assert round(calc_f1_score(tp =2, fp =3, fn =5), 2) == 0.33\n",
        "print(round(calc_f1_score(tp =2, fp =4, fn =5), 2))"
      ],
      "metadata": {
        "colab": {
          "base_uri": "https://localhost:8080/"
        },
        "id": "id6WustybYWT",
        "outputId": "30976653-f993-4ae3-d950-9fbe7e425c62"
      },
      "execution_count": null,
      "outputs": [
        {
          "output_type": "stream",
          "name": "stdout",
          "text": [
            "0.31\n"
          ]
        }
      ]
    },
    {
      "cell_type": "markdown",
      "source": [
        "# Câu hỏi 2 - Đáp án B"
      ],
      "metadata": {
        "id": "2O5Me_eabzjL"
      }
    },
    {
      "cell_type": "code",
      "source": [
        "def is_number(n):\n",
        "  try:\n",
        "    float(n)\n",
        "    return True\n",
        "  except ValueError:\n",
        "    return False"
      ],
      "metadata": {
        "id": "cMt9qFjwbnSR"
      },
      "execution_count": null,
      "outputs": []
    },
    {
      "cell_type": "code",
      "source": [
        "assert is_number (3) == 1.0\n",
        "assert is_number ('-2a') == 0.0\n",
        "print(is_number(1))\n",
        "print(is_number('n'))"
      ],
      "metadata": {
        "colab": {
          "base_uri": "https://localhost:8080/"
        },
        "id": "-kdTRplqcNqX",
        "outputId": "83f510cc-758a-4d0d-f364-89a3b6531e48"
      },
      "execution_count": null,
      "outputs": [
        {
          "output_type": "stream",
          "name": "stdout",
          "text": [
            "True\n",
            "False\n"
          ]
        }
      ]
    },
    {
      "cell_type": "markdown",
      "source": [
        "# Câu hỏi 3 - Đáp án C"
      ],
      "metadata": {
        "id": "UqXbRUmpcXe0"
      }
    },
    {
      "cell_type": "code",
      "source": [
        "#ReLU\n",
        "x = -2.0\n",
        "def calc_relu(x):\n",
        "  if x <= 0:\n",
        "    return 0.0\n",
        "  else:\n",
        "    return x\n",
        "print(calc_relu(x))"
      ],
      "metadata": {
        "colab": {
          "base_uri": "https://localhost:8080/"
        },
        "id": "Dx6L7fcGcWXe",
        "outputId": "92ff6661-074b-47ae-cd6f-2def713e827b"
      },
      "execution_count": null,
      "outputs": [
        {
          "output_type": "stream",
          "name": "stdout",
          "text": [
            "0.0\n"
          ]
        }
      ]
    },
    {
      "cell_type": "markdown",
      "source": [
        "# Câu hỏi 4 - Đáp án A"
      ],
      "metadata": {
        "id": "QJnlGr1dcqua"
      }
    },
    {
      "cell_type": "code",
      "source": [
        "def calc_sig(x):\n",
        "    return 1.0 / (1.0 + math.exp(-x))"
      ],
      "metadata": {
        "id": "8v2FrkDyckEP"
      },
      "execution_count": null,
      "outputs": []
    },
    {
      "cell_type": "code",
      "source": [
        "assert round(calc_sig(3), 2) == 0.95\n",
        "print(round(calc_sig(2), 2))"
      ],
      "metadata": {
        "colab": {
          "base_uri": "https://localhost:8080/"
        },
        "id": "DtculzS1c-CB",
        "outputId": "47dbe8a8-f4b1-4628-dfe1-be7d359682f9"
      },
      "execution_count": null,
      "outputs": [
        {
          "output_type": "stream",
          "name": "stdout",
          "text": [
            "0.88\n"
          ]
        }
      ]
    },
    {
      "cell_type": "markdown",
      "source": [
        "# Câu hỏi 5 - Đáp án B"
      ],
      "metadata": {
        "id": "og6BYlmIdGH2"
      }
    },
    {
      "cell_type": "code",
      "source": [
        "def calc_elu(x, alpha=0.01):\n",
        "    if x <= 0:\n",
        "        return alpha * (math.exp(x) - 1)\n",
        "    else:\n",
        "        return x"
      ],
      "metadata": {
        "id": "I9FCazHJdFUK"
      },
      "execution_count": null,
      "outputs": []
    },
    {
      "cell_type": "code",
      "source": [
        "assert round(calc_elu(1)) == 1\n",
        "print(round(calc_elu(-1), 2))"
      ],
      "metadata": {
        "colab": {
          "base_uri": "https://localhost:8080/"
        },
        "id": "hY6bE5JBdRER",
        "outputId": "f82d4a73-0395-406c-ffaf-a06d2492a103"
      },
      "execution_count": null,
      "outputs": [
        {
          "output_type": "stream",
          "name": "stdout",
          "text": [
            "-0.01\n"
          ]
        }
      ]
    },
    {
      "cell_type": "markdown",
      "source": [
        "# Câu hỏi 6 - Đáp án A"
      ],
      "metadata": {
        "id": "vzuC7MeGdgNw"
      }
    },
    {
      "cell_type": "code",
      "source": [
        "def calc_activation_func(x, act_name):\n",
        "    if act_name == 'sigmoid':\n",
        "        return calc_sig(x)\n",
        "    elif act_name == 'relu':\n",
        "        return calc_relu(x)\n",
        "    elif act_name == 'elu':\n",
        "        return calc_elu(x)\n",
        "    else:\n",
        "        raise ValueError(\"Invalid activation function name\")"
      ],
      "metadata": {
        "id": "fNgC18oDde4c"
      },
      "execution_count": null,
      "outputs": []
    },
    {
      "cell_type": "code",
      "source": [
        "assert calc_activation_func(x = 1, act_name ='relu') == 1\n",
        "print(round(calc_activation_func(x = 3, act_name ='sigmoid'), 2))"
      ],
      "metadata": {
        "colab": {
          "base_uri": "https://localhost:8080/"
        },
        "id": "t1RkmWDmddiY",
        "outputId": "b2937900-ef99-4feb-a00c-5fbdabd8b7a2"
      },
      "execution_count": null,
      "outputs": [
        {
          "output_type": "stream",
          "name": "stdout",
          "text": [
            "0.95\n"
          ]
        }
      ]
    },
    {
      "cell_type": "markdown",
      "source": [
        "# Câu hỏi 7 - Đáp án A"
      ],
      "metadata": {
        "id": "mCfVxj8fe4BR"
      }
    },
    {
      "cell_type": "code",
      "source": [
        "def calc_ae(y, y_hat):\n",
        "    absolute_error = abs(y - y_hat)\n",
        "    return absolute_error"
      ],
      "metadata": {
        "id": "izbdHZr-e2Lt"
      },
      "execution_count": null,
      "outputs": []
    },
    {
      "cell_type": "code",
      "source": [
        "y = 1\n",
        "y_hat = 6\n",
        "assert calc_ae(y, y_hat) == 5\n",
        "y = 2\n",
        "y_hat = 9\n",
        "print(calc_ae(y, y_hat))"
      ],
      "metadata": {
        "colab": {
          "base_uri": "https://localhost:8080/"
        },
        "id": "t6GOJ7cefFwL",
        "outputId": "1947e9e8-836b-4d55-c12e-bbd5ef6bbdb2"
      },
      "execution_count": null,
      "outputs": [
        {
          "output_type": "stream",
          "name": "stdout",
          "text": [
            "7\n"
          ]
        }
      ]
    },
    {
      "cell_type": "markdown",
      "source": [
        "# Câu hỏi 8 - Đáp án A"
      ],
      "metadata": {
        "id": "90aOl6BpfcOf"
      }
    },
    {
      "cell_type": "code",
      "source": [
        "def calc_se(y, y_hat):\n",
        "    squared_error = (y - y_hat)**2\n",
        "    return squared_error"
      ],
      "metadata": {
        "id": "Cbxarju5fOFA"
      },
      "execution_count": null,
      "outputs": []
    },
    {
      "cell_type": "code",
      "source": [
        "y = 4\n",
        "y_hat = 2\n",
        "assert calc_se(y, y_hat) == 4\n",
        "print(calc_se (2, 1))"
      ],
      "metadata": {
        "colab": {
          "base_uri": "https://localhost:8080/"
        },
        "id": "G0K186Y6fgN2",
        "outputId": "8e15ffff-dbe2-4cfe-bd72-9c3c4da77194"
      },
      "execution_count": null,
      "outputs": [
        {
          "output_type": "stream",
          "name": "stdout",
          "text": [
            "1\n"
          ]
        }
      ]
    },
    {
      "cell_type": "markdown",
      "source": [
        "# Câu hỏi 9 - Đáp án C"
      ],
      "metadata": {
        "id": "Xt0Fx84pfmLn"
      }
    },
    {
      "cell_type": "code",
      "source": [
        "def approx_cos(x, n):\n",
        "    cos_approx = 1.0\n",
        "    for k in range(1, n + 1):\n",
        "        term = (-1)**k * x**(2 * k) / math.factorial(2 * k)\n",
        "        cos_approx += term\n",
        "\n",
        "    return cos_approx"
      ],
      "metadata": {
        "id": "HoSnkortflUV"
      },
      "execution_count": null,
      "outputs": []
    },
    {
      "cell_type": "code",
      "source": [
        "assert round(approx_cos(x =1, n =10), 2) == 0.54\n",
        "print(round(approx_cos(x =3.14, n =10), 2))"
      ],
      "metadata": {
        "colab": {
          "base_uri": "https://localhost:8080/"
        },
        "id": "K9MyFQG1f1KG",
        "outputId": "647987cf-d9bc-4664-fd7d-fce400661047"
      },
      "execution_count": null,
      "outputs": [
        {
          "output_type": "stream",
          "name": "stdout",
          "text": [
            "-1.0\n"
          ]
        }
      ]
    },
    {
      "cell_type": "markdown",
      "source": [
        "# Câu hỏi 10 - Đáp án A"
      ],
      "metadata": {
        "id": "s26FE6L1f-Zv"
      }
    },
    {
      "cell_type": "code",
      "source": [
        "def approx_sin(x, n):\n",
        "    sin_approx = 0.0\n",
        "    for k in range(n + 1):\n",
        "        term = (-1)**k * x**(2 * k + 1) / math.factorial(2 * k + 1)\n",
        "        sin_approx += term\n",
        "\n",
        "    return sin_approx"
      ],
      "metadata": {
        "id": "nvUX4JKNf9zr"
      },
      "execution_count": null,
      "outputs": []
    },
    {
      "cell_type": "code",
      "source": [
        "assert round(approx_sin(x =1, n =10), 4) == 0.8415\n",
        "print(round(approx_sin(x =3.14, n =10), 4))"
      ],
      "metadata": {
        "colab": {
          "base_uri": "https://localhost:8080/"
        },
        "id": "9hxUHktDgNZt",
        "outputId": "709e9e07-97c9-47d8-bf52-a433088e368e"
      },
      "execution_count": null,
      "outputs": [
        {
          "output_type": "stream",
          "name": "stdout",
          "text": [
            "0.0016\n"
          ]
        }
      ]
    },
    {
      "cell_type": "markdown",
      "source": [
        "# Câu hỏi 11 - Đáp án A"
      ],
      "metadata": {
        "id": "hrnjfRNQgxiJ"
      }
    },
    {
      "cell_type": "code",
      "source": [
        "def approx_sinh(x, n):\n",
        "    sinh_approx = 0.0\n",
        "    for k in range(n + 1):\n",
        "        term = x**(2 * k + 1) / math.factorial(2 * k + 1)\n",
        "        sinh_approx += term\n",
        "\n",
        "    return sinh_approx"
      ],
      "metadata": {
        "id": "CjysTwN8gWbe"
      },
      "execution_count": null,
      "outputs": []
    },
    {
      "cell_type": "code",
      "source": [
        "assert round(approx_sinh(x =1, n =10), 2) == 1.18\n",
        "print(round(approx_sinh(x =3.14, n =10), 2))"
      ],
      "metadata": {
        "colab": {
          "base_uri": "https://localhost:8080/"
        },
        "id": "o8aNBA_ig2hN",
        "outputId": "216cadf4-1434-438f-9a27-c91790388b45"
      },
      "execution_count": null,
      "outputs": [
        {
          "output_type": "stream",
          "name": "stdout",
          "text": [
            "11.53\n"
          ]
        }
      ]
    },
    {
      "cell_type": "markdown",
      "source": [
        "# Câu hỏi 12 - Đáp án A"
      ],
      "metadata": {
        "id": "T0imOspVg_ix"
      }
    },
    {
      "cell_type": "code",
      "source": [
        "def approx_cosh(x, n):\n",
        "    cosh_approx = 1.0\n",
        "    for k in range(1, n + 1):\n",
        "        term = x**(2 * k) / math.factorial(2 * k)\n",
        "        cosh_approx += term\n",
        "\n",
        "    return cosh_approx"
      ],
      "metadata": {
        "id": "44RkAkxfg9X1"
      },
      "execution_count": null,
      "outputs": []
    },
    {
      "cell_type": "code",
      "source": [
        "assert round(approx_cosh(x =1, n =10), 2) == 1.54\n",
        "print(round(approx_cosh(x =3.14, n =10), 2))"
      ],
      "metadata": {
        "colab": {
          "base_uri": "https://localhost:8080/"
        },
        "id": "3zF3CYxPhOj8",
        "outputId": "57f8491f-14a6-4495-fbb1-47d8911ad73f"
      },
      "execution_count": null,
      "outputs": [
        {
          "output_type": "stream",
          "name": "stdout",
          "text": [
            "11.57\n"
          ]
        }
      ]
    },
    {
      "cell_type": "markdown",
      "source": [
        "# Câu hỏi 13 - Đáp án C"
      ],
      "metadata": {
        "id": "bs6bZamDiAJZ"
      }
    },
    {
      "cell_type": "code",
      "source": [
        "# (A)\n",
        "def md_nre_single_sample (y , y_hat , n , p) :\n",
        "  y_root = y ** (1/ n )\n",
        "  y_hat_root = y_hat ** (1/ n )\n",
        "  difference = y_root - y_hat_root\n",
        "  loss = difference ** p\n",
        "  return loss\n",
        "\n",
        "# (B)\n",
        "def md_nre_single_sample1 (y , y_hat , n , p ) :\n",
        "  y_root = y ** (1/ n )\n",
        "  y_hat_root = y_hat ** (1/2)\n",
        "  difference = y_root - y_hat_root\n",
        "  loss = difference ** p\n",
        "  return loss\n",
        "# (C)\n",
        "def md_nre_single_sample2 (y , y_hat , n , p ) :\n",
        "  y_root = y ** (1/ n )\n",
        "  y_hat_root = y_hat ** (1/ n )\n",
        "  difference = y_root / y_hat_root\n",
        "  loss = difference ** p\n",
        "  return loss\n",
        "\n",
        "# (D)\n",
        "def md_nre_single_sample3 (y , y_hat , n , p ) :\n",
        "  y_root = y ** (1/ n )\n",
        "  y_hat_root = y_hat ** (1/ n )\n",
        "  difference = y_root - y_hat_root\n",
        "  loss = difference\n",
        "  return loss"
      ],
      "metadata": {
        "id": "i6DxWkAYh1dw"
      },
      "execution_count": null,
      "outputs": []
    },
    {
      "cell_type": "code",
      "source": [
        "print(md_nre_single_sample ( y =100 , y_hat =99.5 , n =2 , p =1))\n",
        "# 0.025031328369998107\n",
        "\n",
        "print(md_nre_single_sample1 ( y =50 , y_hat =49.5 , n =2 , p =1))\n",
        "# 0.03544417213033135\n",
        "\n",
        "print(md_nre_single_sample2 ( y =20 , y_hat =19.5 , n =2 , p =1))\n",
        "# 0.05625552183565574\n",
        "\n",
        "print(md_nre_single_sample3 ( y =0.6 , y_hat =0.1 , n =2 , p =1))\n",
        "# 0.45836890322464546"
      ],
      "metadata": {
        "colab": {
          "base_uri": "https://localhost:8080/"
        },
        "id": "S2OzsRYDjkCs",
        "outputId": "7a7fbf8e-2904-46da-e6eb-bda2994f3762"
      },
      "execution_count": null,
      "outputs": [
        {
          "output_type": "stream",
          "name": "stdout",
          "text": [
            "0.025031328369998107\n",
            "0.03544417213033135\n",
            "1.0127393670836666\n",
            "0.45836890322464546\n"
          ]
        }
      ]
    },
    {
      "cell_type": "code",
      "source": [],
      "metadata": {
        "id": "2EvG6Kqzjwf8"
      },
      "execution_count": null,
      "outputs": []
    }
  ]
}